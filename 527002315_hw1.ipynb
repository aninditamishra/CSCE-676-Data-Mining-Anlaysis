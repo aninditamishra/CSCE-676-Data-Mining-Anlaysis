{
 "cells": [
  {
   "cell_type": "markdown",
   "metadata": {},
   "source": [
    "## CSCE 676 :: Data Mining and Analysis :: Texas A&M University :: Fall 2019\n",
    "\n",
    "\n",
    "# Homework 1\n",
    "\n",
    "- **100 points [6% of your final grade]**\n",
    "- **Due Wednesday, September 18 by 11:59pm**\n",
    "\n",
    "*Goals of this homework:* There are two objectives of this homework: i) collect data from the web, clean it, and then make some observations based on exploratory data analysis; and ii) understand and implement the classic apriori algorithm to find the association rules in a movie rating dataset.\n",
    "\n",
    "*Submission instructions:* You should post your notebook to ecampus (look for the homework 1 assignment there). Please name your submission **your-uin_hw1.ipynb**, so for example, my submission would be something like **555001234_hw1.ipynb**. Your notebook should be fully executed when you submit ... so run all the cells for us so we can see the output, then submit that. "
   ]
  },
  {
   "cell_type": "markdown",
   "metadata": {},
   "source": [
    "## (10 points) Part 1a: UFOs are Out There, But First I Need to Store them Locally\n",
    "\n",
    "For this first part, we're going to collect evidence of UFO sightings from the **National UFO Reporting Center**. Specifically, we're going to focus only on UFO sightings in Texas, as reported at this webpage:\n",
    "\n",
    "* http://www.nuforc.org/webreports/ndxlTX.html\n",
    "\n",
    "Recall that you can view the source of a webpage in Chrome under View &rarr; Developer &rarr; View Source. You'll notice, however, that this raw HTML is not in our friendly csv format and so will require some initial pre-processing. In particular, we're going to use the Python libraries **[requests](http://docs.python-requests.org/en/master/)** and **[beautiful soup](https://www.crummy.com/software/BeautifulSoup/)** to convert this UFO data from its original HTML format into csv. \n",
    "\n",
    "Hints:\n",
    "* You'll notice that the column headers are in the `<TH>` tags.\n",
    "* The values are in the `<TD>` tags.\n",
    "* In beautiful soup, something like `.find_all('td')` may help you.\n",
    "* To write the csv, you might want to `import csv` and take a look at the functions provided.\n",
    "* If you google for \"beautifulsoup table to csv\" you should find some nice starting points.  Note, however, that you may not use an existing method that auto-magically converts the HTML into csv; we expect you to write your own code. If you borrow some elements from online resources, you should cite them in the comments. "
   ]
  },
  {
   "cell_type": "code",
   "execution_count": 2198,
   "metadata": {},
   "outputs": [],
   "source": [
    "from bs4 import BeautifulSoup\n",
    "import requests\n",
    "import pandas as pd\n",
    "import csv\n",
    "import numpy as np\n",
    "\n",
    "url = \"http://www.nuforc.org/webreports/ndxlTX.html\"\n",
    "page = requests.get(url)\n",
    "pagetext = page.text\n",
    "\n",
    "soup = BeautifulSoup(pagetext, 'html.parser')\n",
    "\n",
    "count=1\n",
    "table ={}\n",
    "columnNames = []\n",
    "    \n",
    "for row in soup.find_all('tr'):\n",
    "    temp = []\n",
    "    for c in row.find_all('th'):\n",
    "        columnNames.append(c.text)\n",
    "        temp.append(c.text)\n",
    "    for c in row.find_all('td'):\n",
    "        temp.append(c.text)\n",
    "    table[count]=temp\n",
    "    count+=1"
   ]
  },
  {
   "cell_type": "code",
   "execution_count": 2199,
   "metadata": {},
   "outputs": [],
   "source": [
    "df=pd.DataFrame.from_dict(table,orient='index',columns = columnNames)\n",
    "df = df.drop(1) #delete row that is a copy of the column names\n",
    "#save dataframe to a csv file\n",
    "df.to_csv (r'ufo_texas.csv', index = None, header=True)"
   ]
  },
  {
   "cell_type": "markdown",
   "metadata": {},
   "source": [
    "Once you have your local csv file, you should read it in and then issue the .head() command."
   ]
  },
  {
   "cell_type": "code",
   "execution_count": 2200,
   "metadata": {},
   "outputs": [
    {
     "data": {
      "text/html": [
       "<div>\n",
       "<style scoped>\n",
       "    .dataframe tbody tr th:only-of-type {\n",
       "        vertical-align: middle;\n",
       "    }\n",
       "\n",
       "    .dataframe tbody tr th {\n",
       "        vertical-align: top;\n",
       "    }\n",
       "\n",
       "    .dataframe thead th {\n",
       "        text-align: right;\n",
       "    }\n",
       "</style>\n",
       "<table border=\"1\" class=\"dataframe\">\n",
       "  <thead>\n",
       "    <tr style=\"text-align: right;\">\n",
       "      <th></th>\n",
       "      <th>Date / Time</th>\n",
       "      <th>City</th>\n",
       "      <th>State</th>\n",
       "      <th>Shape</th>\n",
       "      <th>Duration</th>\n",
       "      <th>Summary</th>\n",
       "      <th>Posted</th>\n",
       "    </tr>\n",
       "  </thead>\n",
       "  <tbody>\n",
       "    <tr>\n",
       "      <td>0</td>\n",
       "      <td>9/10/19 22:10</td>\n",
       "      <td>Lake Worth</td>\n",
       "      <td>TX</td>\n",
       "      <td>Light</td>\n",
       "      <td>30 seconds</td>\n",
       "      <td>Two bright objects moving in formation.</td>\n",
       "      <td>9/12/19</td>\n",
       "    </tr>\n",
       "    <tr>\n",
       "      <td>1</td>\n",
       "      <td>9/6/19 21:00</td>\n",
       "      <td>League City</td>\n",
       "      <td>TX</td>\n",
       "      <td>Formation</td>\n",
       "      <td>2 minutes</td>\n",
       "      <td>As we were heading northbound on Hobbs Road in...</td>\n",
       "      <td>9/12/19</td>\n",
       "    </tr>\n",
       "    <tr>\n",
       "      <td>2</td>\n",
       "      <td>9/5/19 07:30</td>\n",
       "      <td>Weatherford</td>\n",
       "      <td>TX</td>\n",
       "      <td>Cylinder</td>\n",
       "      <td>30 seconds</td>\n",
       "      <td>Re-entry moving W, W of Weatherford, TX.</td>\n",
       "      <td>9/12/19</td>\n",
       "    </tr>\n",
       "    <tr>\n",
       "      <td>3</td>\n",
       "      <td>9/4/19 23:00</td>\n",
       "      <td>Ozona</td>\n",
       "      <td>TX</td>\n",
       "      <td>Light</td>\n",
       "      <td>12 seconds</td>\n",
       "      <td>Light almost like a plane flying quickly above...</td>\n",
       "      <td>9/6/19</td>\n",
       "    </tr>\n",
       "    <tr>\n",
       "      <td>4</td>\n",
       "      <td>9/1/19 20:30</td>\n",
       "      <td>League City</td>\n",
       "      <td>TX</td>\n",
       "      <td>Circle</td>\n",
       "      <td>5 minutes</td>\n",
       "      <td>8-9 Orange glowing objects in single file line...</td>\n",
       "      <td>9/6/19</td>\n",
       "    </tr>\n",
       "  </tbody>\n",
       "</table>\n",
       "</div>"
      ],
      "text/plain": [
       "     Date / Time         City State      Shape    Duration  \\\n",
       "0  9/10/19 22:10   Lake Worth    TX      Light  30 seconds   \n",
       "1   9/6/19 21:00  League City    TX  Formation   2 minutes   \n",
       "2   9/5/19 07:30  Weatherford    TX   Cylinder  30 seconds   \n",
       "3   9/4/19 23:00        Ozona    TX      Light  12 seconds   \n",
       "4   9/1/19 20:30  League City    TX     Circle   5 minutes   \n",
       "\n",
       "                                             Summary   Posted  \n",
       "0            Two bright objects moving in formation.  9/12/19  \n",
       "1  As we were heading northbound on Hobbs Road in...  9/12/19  \n",
       "2           Re-entry moving W, W of Weatherford, TX.  9/12/19  \n",
       "3  Light almost like a plane flying quickly above...   9/6/19  \n",
       "4  8-9 Orange glowing objects in single file line...   9/6/19  "
      ]
     },
     "execution_count": 2200,
     "metadata": {},
     "output_type": "execute_result"
    }
   ],
   "source": [
    "data = pd.read_csv(\"ufo_texas.csv\")\n",
    "data.head()"
   ]
  },
  {
   "cell_type": "markdown",
   "metadata": {},
   "source": [
    "## (10 points) Part 1b: UFOs are a Mess! Time to Clean Up!\n",
    "\n",
    "Okay, now we move to the fun part -- making sense of this messy data. These UFO reports are user-generated with little input validation. As a result, you will notice lots of oddities. \n",
    "\n",
    "Let's begin by focusing on the **Duration** column. As a first pass, let's make a grossly simplifying assumption -- that the only valid data is any duration that is of the form:  \n",
    "\n",
    "* 1 second\n",
    "* 2 seconds\n",
    "* ...\n",
    "* 1 minute\n",
    "* 2 minutes\n",
    "* ...\n",
    "* 1 hour\n",
    "* 2 hours \n",
    "* ...\n",
    "* 1 day\n",
    "* 2 days \n",
    "* ...\n",
    "\n",
    "That is, we will only accept positive integers followed by a space, followed by a properly spelled unit. Every other entry is invalid. For example, that means these are all invalid durations:\n",
    "\n",
    "* 1s\n",
    "* 2 min.\n",
    "* 2-3 seconds\n",
    "* 10-15min\n",
    "* 1 minute+\n",
    "* 30 minutes and longer\n",
    "* about 1.5 minutes\n",
    "\n",
    "Create a new pandas dataframe that only includes sightings with these values, **where you convert all durations into seconds**. How many total rows are there in the original dataset? How many rows in your new 'validated' dataset? Report the basic statistics of the duration in your new 'validated' dataset (report maximum, minimum, mean, and standard deviation values of duration). At last, plot a boxplot of the duration (in seconds) in your 'validated' dataset."
   ]
  },
  {
   "cell_type": "code",
   "execution_count": 2201,
   "metadata": {},
   "outputs": [],
   "source": [
    "dataValidated = data.copy(deep=True)"
   ]
  },
  {
   "cell_type": "code",
   "execution_count": 2202,
   "metadata": {
    "scrolled": true
   },
   "outputs": [],
   "source": [
    "# your code here \n",
    "# filter our invalid durations\n",
    "# convert all valid durations to seconds\n",
    "import re\n",
    "\n",
    "def seconds(t):\n",
    "    z = re.match('^\\d+\\s+(seconds|second)',t)\n",
    "    if('None' not in str(type(z))):\n",
    "        return(z.group(0))\n",
    "\n",
    "def minutes(t):\n",
    "    z = re.match('^\\d+\\s+(minutes|minute)',t)\n",
    "    if('None' not in str(type(z))):\n",
    "        return(z.group(0))\n",
    "    \n",
    "def hours(t):\n",
    "    z = re.match('^\\d+\\s+(hours|hour)',t)\n",
    "    if('None' not in str(type(z))):\n",
    "        return(z.group(0))\n",
    "\n",
    "def days(t):\n",
    "    z = re.match('^\\d+\\s+(days|day)',t)\n",
    "    if('None' not in str(type(z))):\n",
    "        return(z.group(0))\n",
    "    \n",
    "def weeks(t):\n",
    "    z = re.match('^\\d+\\s+(week|weeks)',t)\n",
    "    if('None' not in str(type(z))):\n",
    "        return(z.group(0))\n",
    "\n",
    "def getValidRows(dataValidated):\n",
    "    validRows = []\n",
    "    for index,row in dataValidated.iterrows(): \n",
    "        if(type(row['Duration']) != 'float'):\n",
    "            if seconds(str(row['Duration'])):\n",
    "                validRows.append(index)\n",
    "                #print(seconds(str(row['Duration'])))\n",
    "            if minutes(str(row['Duration'])):\n",
    "                validRows.append(index)\n",
    "                #print(minutes(str(row['Duration'])))\n",
    "            if hours(str(row['Duration'])):\n",
    "                validRows.append(index)\n",
    "                #print(hours(str(row['Duration'])))\n",
    "            if days(str(row['Duration'])):\n",
    "                validRows.append(index)\n",
    "            if weeks(str(row['Duration'])):\n",
    "                validRows.append(index)\n",
    "    return validRows\n"
   ]
  },
  {
   "cell_type": "code",
   "execution_count": 2203,
   "metadata": {},
   "outputs": [],
   "source": [
    "rows = getValidRows(dataValidated)"
   ]
  },
  {
   "cell_type": "code",
   "execution_count": 2204,
   "metadata": {},
   "outputs": [],
   "source": [
    "#Drop invalid entries\n",
    "        \n",
    "for index, row in dataValidated.iterrows():\n",
    "    if index not in rows:\n",
    "        dataValidated.drop(index,inplace=True)\n"
   ]
  },
  {
   "cell_type": "code",
   "execution_count": 2205,
   "metadata": {},
   "outputs": [
    {
     "data": {
      "text/plain": [
       "(2540, 7)"
      ]
     },
     "execution_count": 2205,
     "metadata": {},
     "output_type": "execute_result"
    }
   ],
   "source": [
    "dataValidated.shape"
   ]
  },
  {
   "cell_type": "code",
   "execution_count": 2206,
   "metadata": {},
   "outputs": [
    {
     "data": {
      "text/html": [
       "<div>\n",
       "<style scoped>\n",
       "    .dataframe tbody tr th:only-of-type {\n",
       "        vertical-align: middle;\n",
       "    }\n",
       "\n",
       "    .dataframe tbody tr th {\n",
       "        vertical-align: top;\n",
       "    }\n",
       "\n",
       "    .dataframe thead th {\n",
       "        text-align: right;\n",
       "    }\n",
       "</style>\n",
       "<table border=\"1\" class=\"dataframe\">\n",
       "  <thead>\n",
       "    <tr style=\"text-align: right;\">\n",
       "      <th></th>\n",
       "      <th>Date / Time</th>\n",
       "      <th>City</th>\n",
       "      <th>State</th>\n",
       "      <th>Shape</th>\n",
       "      <th>Duration</th>\n",
       "      <th>Summary</th>\n",
       "      <th>Posted</th>\n",
       "    </tr>\n",
       "  </thead>\n",
       "  <tbody>\n",
       "    <tr>\n",
       "      <td>0</td>\n",
       "      <td>9/10/19 22:10</td>\n",
       "      <td>Lake Worth</td>\n",
       "      <td>TX</td>\n",
       "      <td>Light</td>\n",
       "      <td>30 seconds</td>\n",
       "      <td>Two bright objects moving in formation.</td>\n",
       "      <td>9/12/19</td>\n",
       "    </tr>\n",
       "    <tr>\n",
       "      <td>1</td>\n",
       "      <td>9/6/19 21:00</td>\n",
       "      <td>League City</td>\n",
       "      <td>TX</td>\n",
       "      <td>Formation</td>\n",
       "      <td>2 minutes</td>\n",
       "      <td>As we were heading northbound on Hobbs Road in...</td>\n",
       "      <td>9/12/19</td>\n",
       "    </tr>\n",
       "    <tr>\n",
       "      <td>2</td>\n",
       "      <td>9/5/19 07:30</td>\n",
       "      <td>Weatherford</td>\n",
       "      <td>TX</td>\n",
       "      <td>Cylinder</td>\n",
       "      <td>30 seconds</td>\n",
       "      <td>Re-entry moving W, W of Weatherford, TX.</td>\n",
       "      <td>9/12/19</td>\n",
       "    </tr>\n",
       "    <tr>\n",
       "      <td>3</td>\n",
       "      <td>9/4/19 23:00</td>\n",
       "      <td>Ozona</td>\n",
       "      <td>TX</td>\n",
       "      <td>Light</td>\n",
       "      <td>12 seconds</td>\n",
       "      <td>Light almost like a plane flying quickly above...</td>\n",
       "      <td>9/6/19</td>\n",
       "    </tr>\n",
       "    <tr>\n",
       "      <td>4</td>\n",
       "      <td>9/1/19 20:30</td>\n",
       "      <td>League City</td>\n",
       "      <td>TX</td>\n",
       "      <td>Circle</td>\n",
       "      <td>5 minutes</td>\n",
       "      <td>8-9 Orange glowing objects in single file line...</td>\n",
       "      <td>9/6/19</td>\n",
       "    </tr>\n",
       "  </tbody>\n",
       "</table>\n",
       "</div>"
      ],
      "text/plain": [
       "     Date / Time         City State      Shape    Duration  \\\n",
       "0  9/10/19 22:10   Lake Worth    TX      Light  30 seconds   \n",
       "1   9/6/19 21:00  League City    TX  Formation   2 minutes   \n",
       "2   9/5/19 07:30  Weatherford    TX   Cylinder  30 seconds   \n",
       "3   9/4/19 23:00        Ozona    TX      Light  12 seconds   \n",
       "4   9/1/19 20:30  League City    TX     Circle   5 minutes   \n",
       "\n",
       "                                             Summary   Posted  \n",
       "0            Two bright objects moving in formation.  9/12/19  \n",
       "1  As we were heading northbound on Hobbs Road in...  9/12/19  \n",
       "2           Re-entry moving W, W of Weatherford, TX.  9/12/19  \n",
       "3  Light almost like a plane flying quickly above...   9/6/19  \n",
       "4  8-9 Orange glowing objects in single file line...   9/6/19  "
      ]
     },
     "execution_count": 2206,
     "metadata": {},
     "output_type": "execute_result"
    }
   ],
   "source": [
    "dataValidated.head()"
   ]
  },
  {
   "cell_type": "code",
   "execution_count": 2207,
   "metadata": {},
   "outputs": [],
   "source": [
    "for index,row in dataValidated.iterrows(): \n",
    "    if 'second' in row['Duration']:\n",
    "        res = [int(i) for i in str(row['Duration']).split() if i.isdigit()]\n",
    "        #durations.append(res[0])\n",
    "    if 'minute' in row['Duration']:\n",
    "        res = [int(i) for i in str(row['Duration']).split() if i.isdigit()]\n",
    "        row['Duration'] = str(60*res[0]) + \" \" + \"seconds\"\n",
    "        #durations.append(60*res[0])\n",
    "    if 'hour' in row['Duration']:\n",
    "        res = [int(i) for i in str(row['Duration']).split() if i.isdigit()]\n",
    "        row['Duration'] = str(60*60*res[0]) + \" \" + \"seconds\"\n",
    "        #durations.append(60*60*res[0])\n",
    "    if 'day' in row['Duration']:\n",
    "        res = [int(i) for i in str(row['Duration']).split() if i.isdigit()]\n",
    "        row['Duration'] = str(24*60*60*res[0]) + \" \" + \"seconds\"\n",
    "        #durations.append(24*60*60*res[0])\n",
    "    if 'week' in row['Duration']:\n",
    "        res = [int(i) for i in str(row['Duration']).split() if i.isdigit()]\n",
    "        row['Duration'] = str(7*24*60*60*res[0]) + \" \" + \"seconds\"\n",
    "        #durations.append(7*24*60*60*res[0])     "
   ]
  },
  {
   "cell_type": "code",
   "execution_count": 2208,
   "metadata": {},
   "outputs": [],
   "source": [
    "durations=[]\n",
    "durationDF1=dataValidated['Duration']\n",
    "for dur in durationDF1:\n",
    "    t = dur.split()[0]\n",
    "    #print(t)\n",
    "    durations.append(float(dur.split()[0]))"
   ]
  },
  {
   "cell_type": "code",
   "execution_count": 2209,
   "metadata": {},
   "outputs": [
    {
     "data": {
      "text/html": [
       "<div>\n",
       "<style scoped>\n",
       "    .dataframe tbody tr th:only-of-type {\n",
       "        vertical-align: middle;\n",
       "    }\n",
       "\n",
       "    .dataframe tbody tr th {\n",
       "        vertical-align: top;\n",
       "    }\n",
       "\n",
       "    .dataframe thead th {\n",
       "        text-align: right;\n",
       "    }\n",
       "</style>\n",
       "<table border=\"1\" class=\"dataframe\">\n",
       "  <thead>\n",
       "    <tr style=\"text-align: right;\">\n",
       "      <th></th>\n",
       "      <th>Date / Time</th>\n",
       "      <th>City</th>\n",
       "      <th>State</th>\n",
       "      <th>Shape</th>\n",
       "      <th>Duration</th>\n",
       "      <th>Summary</th>\n",
       "      <th>Posted</th>\n",
       "    </tr>\n",
       "  </thead>\n",
       "  <tbody>\n",
       "    <tr>\n",
       "      <td>0</td>\n",
       "      <td>9/10/19 22:10</td>\n",
       "      <td>Lake Worth</td>\n",
       "      <td>TX</td>\n",
       "      <td>Light</td>\n",
       "      <td>30 seconds</td>\n",
       "      <td>Two bright objects moving in formation.</td>\n",
       "      <td>9/12/19</td>\n",
       "    </tr>\n",
       "    <tr>\n",
       "      <td>1</td>\n",
       "      <td>9/6/19 21:00</td>\n",
       "      <td>League City</td>\n",
       "      <td>TX</td>\n",
       "      <td>Formation</td>\n",
       "      <td>120 seconds</td>\n",
       "      <td>As we were heading northbound on Hobbs Road in...</td>\n",
       "      <td>9/12/19</td>\n",
       "    </tr>\n",
       "    <tr>\n",
       "      <td>2</td>\n",
       "      <td>9/5/19 07:30</td>\n",
       "      <td>Weatherford</td>\n",
       "      <td>TX</td>\n",
       "      <td>Cylinder</td>\n",
       "      <td>30 seconds</td>\n",
       "      <td>Re-entry moving W, W of Weatherford, TX.</td>\n",
       "      <td>9/12/19</td>\n",
       "    </tr>\n",
       "    <tr>\n",
       "      <td>3</td>\n",
       "      <td>9/4/19 23:00</td>\n",
       "      <td>Ozona</td>\n",
       "      <td>TX</td>\n",
       "      <td>Light</td>\n",
       "      <td>12 seconds</td>\n",
       "      <td>Light almost like a plane flying quickly above...</td>\n",
       "      <td>9/6/19</td>\n",
       "    </tr>\n",
       "    <tr>\n",
       "      <td>4</td>\n",
       "      <td>9/1/19 20:30</td>\n",
       "      <td>League City</td>\n",
       "      <td>TX</td>\n",
       "      <td>Circle</td>\n",
       "      <td>300 seconds</td>\n",
       "      <td>8-9 Orange glowing objects in single file line...</td>\n",
       "      <td>9/6/19</td>\n",
       "    </tr>\n",
       "  </tbody>\n",
       "</table>\n",
       "</div>"
      ],
      "text/plain": [
       "     Date / Time         City State      Shape     Duration  \\\n",
       "0  9/10/19 22:10   Lake Worth    TX      Light   30 seconds   \n",
       "1   9/6/19 21:00  League City    TX  Formation  120 seconds   \n",
       "2   9/5/19 07:30  Weatherford    TX   Cylinder   30 seconds   \n",
       "3   9/4/19 23:00        Ozona    TX      Light   12 seconds   \n",
       "4   9/1/19 20:30  League City    TX     Circle  300 seconds   \n",
       "\n",
       "                                             Summary   Posted  \n",
       "0            Two bright objects moving in formation.  9/12/19  \n",
       "1  As we were heading northbound on Hobbs Road in...  9/12/19  \n",
       "2           Re-entry moving W, W of Weatherford, TX.  9/12/19  \n",
       "3  Light almost like a plane flying quickly above...   9/6/19  \n",
       "4  8-9 Orange glowing objects in single file line...   9/6/19  "
      ]
     },
     "execution_count": 2209,
     "metadata": {},
     "output_type": "execute_result"
    }
   ],
   "source": [
    "dataValidated.head()"
   ]
  },
  {
   "cell_type": "code",
   "execution_count": 2210,
   "metadata": {},
   "outputs": [
    {
     "name": "stdout",
     "output_type": "stream",
     "text": [
      "Original data set had 5046 rows\n",
      "Validates data set has 2540 rows\n"
     ]
    }
   ],
   "source": [
    "# your code here\n",
    "# total rows in original dataset\n",
    "print('Original data set had',data.shape[0] ,'rows')\n",
    "# valid rows in your new 'validated' dataset\n",
    "print('Validates data set has',dataValidated.shape[0] ,'rows')"
   ]
  },
  {
   "cell_type": "code",
   "execution_count": 2211,
   "metadata": {},
   "outputs": [],
   "source": [
    "dataValidated['Time'] = durations"
   ]
  },
  {
   "cell_type": "code",
   "execution_count": 2212,
   "metadata": {},
   "outputs": [
    {
     "name": "stdout",
     "output_type": "stream",
     "text": [
      "Maximum duration: 604800.0\n",
      "Minimum duration: 1.0\n",
      "Mean duration: 1528.982283464567\n",
      "Standard Deviation: 16169.223413073483\n",
      "Median: 120.0\n"
     ]
    },
    {
     "data": {
      "image/png": "[encoded data removed]",
      "text/plain": [
       "<Figure size 1080x1080 with 1 Axes>"
      ]
     },
     "metadata": {
      "needs_background": "light"
     },
     "output_type": "display_data"
    },
    {
     "name": "stdout",
     "output_type": "stream",
     "text": [
      "\n",
      "count      2540.000000\n",
      "mean       1528.982283\n",
      "std       16169.223413\n",
      "min           1.000000\n",
      "25%          20.000000\n",
      "50%         120.000000\n",
      "75%         600.000000\n",
      "max      604800.000000\n",
      "Name: Time, dtype: float64\n"
     ]
    }
   ],
   "source": [
    "# your code here\n",
    "# report the basic statistics of duration in 'validated' dataset\n",
    "#max, min,mean,standard deviation\n",
    "\n",
    "import matplotlib.pyplot as plt\n",
    "import statistics\n",
    "print('Maximum duration:',float(max(durations)) )\n",
    "print('Minimum duration:',float(min(durations)) )\n",
    "print('Mean duration:',statistics.mean(durations) )\n",
    "print('Standard Deviation:',statistics.stdev(durations) )\n",
    "print('Median:',statistics.median(durations))\n",
    "\n",
    "# boxplot code here\n",
    "plt.figure(figsize=(15,15))\n",
    "plt.boxplot(durations)\n",
    "\n",
    "plt.show()\n",
    "print()\n",
    "\n",
    "\n",
    "print(dataValidated['Time'].describe())"
   ]
  },
  {
   "cell_type": "markdown",
   "metadata": {},
   "source": [
    "## (30 points) Part 1c: Can we do better?\n",
    "Interesting. But we threw away a **lot** of data. We can do better. For this part, you will do your best to clean up the durations from your original dataset. Keep in mind some initial guidelines:\n",
    "\n",
    "* If a duration has a range, use the average as its value. For example, if the duration is listed as “6-8 minutes”, you should consider the duration as “7 minutes”. (Again, you will need to eventually convert minutes into seconds).\n",
    "* If a duration has a “<” sign, you should simply ignore the “<” sign. For example if the duration is specified as “< 1 minute”, consider the duration to be “1 minute”. You should subsequently convert “1 minute” to \"60 seconds\".\n",
    "* If a duration has a “>” sign, you should simply ignore the “>” sign. \n",
    "* You should ignore any row with an empty duration.\n",
    "\n",
    "You will probably have to improvise as you go along, so **make detailed notes of what decisions you are making and why**."
   ]
  },
  {
   "cell_type": "code",
   "execution_count": 2213,
   "metadata": {},
   "outputs": [],
   "source": [
    "dataClean = data.copy(deep=True)\n",
    "dataClean['Duration'].replace('',np.nan,inplace=True)"
   ]
  },
  {
   "cell_type": "code",
   "execution_count": 2214,
   "metadata": {},
   "outputs": [
    {
     "data": {
      "text/plain": [
       "(5046, 7)"
      ]
     },
     "execution_count": 2214,
     "metadata": {},
     "output_type": "execute_result"
    }
   ],
   "source": [
    "dataClean.shape"
   ]
  },
  {
   "cell_type": "code",
   "execution_count": 2215,
   "metadata": {},
   "outputs": [
    {
     "data": {
      "text/html": [
       "<div>\n",
       "<style scoped>\n",
       "    .dataframe tbody tr th:only-of-type {\n",
       "        vertical-align: middle;\n",
       "    }\n",
       "\n",
       "    .dataframe tbody tr th {\n",
       "        vertical-align: top;\n",
       "    }\n",
       "\n",
       "    .dataframe thead th {\n",
       "        text-align: right;\n",
       "    }\n",
       "</style>\n",
       "<table border=\"1\" class=\"dataframe\">\n",
       "  <thead>\n",
       "    <tr style=\"text-align: right;\">\n",
       "      <th></th>\n",
       "      <th>Date / Time</th>\n",
       "      <th>City</th>\n",
       "      <th>State</th>\n",
       "      <th>Shape</th>\n",
       "      <th>Duration</th>\n",
       "      <th>Summary</th>\n",
       "      <th>Posted</th>\n",
       "    </tr>\n",
       "  </thead>\n",
       "  <tbody>\n",
       "    <tr>\n",
       "      <td>0</td>\n",
       "      <td>9/10/19 22:10</td>\n",
       "      <td>Lake Worth</td>\n",
       "      <td>TX</td>\n",
       "      <td>Light</td>\n",
       "      <td>30 seconds</td>\n",
       "      <td>Two bright objects moving in formation.</td>\n",
       "      <td>9/12/19</td>\n",
       "    </tr>\n",
       "    <tr>\n",
       "      <td>1</td>\n",
       "      <td>9/6/19 21:00</td>\n",
       "      <td>League City</td>\n",
       "      <td>TX</td>\n",
       "      <td>Formation</td>\n",
       "      <td>2 minutes</td>\n",
       "      <td>As we were heading northbound on Hobbs Road in...</td>\n",
       "      <td>9/12/19</td>\n",
       "    </tr>\n",
       "    <tr>\n",
       "      <td>2</td>\n",
       "      <td>9/5/19 07:30</td>\n",
       "      <td>Weatherford</td>\n",
       "      <td>TX</td>\n",
       "      <td>Cylinder</td>\n",
       "      <td>30 seconds</td>\n",
       "      <td>Re-entry moving W, W of Weatherford, TX.</td>\n",
       "      <td>9/12/19</td>\n",
       "    </tr>\n",
       "    <tr>\n",
       "      <td>3</td>\n",
       "      <td>9/4/19 23:00</td>\n",
       "      <td>Ozona</td>\n",
       "      <td>TX</td>\n",
       "      <td>Light</td>\n",
       "      <td>12 seconds</td>\n",
       "      <td>Light almost like a plane flying quickly above...</td>\n",
       "      <td>9/6/19</td>\n",
       "    </tr>\n",
       "    <tr>\n",
       "      <td>4</td>\n",
       "      <td>9/1/19 20:30</td>\n",
       "      <td>League City</td>\n",
       "      <td>TX</td>\n",
       "      <td>Circle</td>\n",
       "      <td>5 minutes</td>\n",
       "      <td>8-9 Orange glowing objects in single file line...</td>\n",
       "      <td>9/6/19</td>\n",
       "    </tr>\n",
       "  </tbody>\n",
       "</table>\n",
       "</div>"
      ],
      "text/plain": [
       "     Date / Time         City State      Shape    Duration  \\\n",
       "0  9/10/19 22:10   Lake Worth    TX      Light  30 seconds   \n",
       "1   9/6/19 21:00  League City    TX  Formation   2 minutes   \n",
       "2   9/5/19 07:30  Weatherford    TX   Cylinder  30 seconds   \n",
       "3   9/4/19 23:00        Ozona    TX      Light  12 seconds   \n",
       "4   9/1/19 20:30  League City    TX     Circle   5 minutes   \n",
       "\n",
       "                                             Summary   Posted  \n",
       "0            Two bright objects moving in formation.  9/12/19  \n",
       "1  As we were heading northbound on Hobbs Road in...  9/12/19  \n",
       "2           Re-entry moving W, W of Weatherford, TX.  9/12/19  \n",
       "3  Light almost like a plane flying quickly above...   9/6/19  \n",
       "4  8-9 Orange glowing objects in single file line...   9/6/19  "
      ]
     },
     "execution_count": 2215,
     "metadata": {},
     "output_type": "execute_result"
    }
   ],
   "source": [
    "dataClean.head()"
   ]
  },
  {
   "cell_type": "code",
   "execution_count": 2216,
   "metadata": {},
   "outputs": [],
   "source": [
    "units = r'(mins?|hours?|secs?|hrs?|m|s|h|minutes?|seconds?|days?|days?|weeks?)'\n",
    "around = r'(?:\\<|\\>|\\~|\\+|plus|app\\.|approx\\.|about|abt|app|approx|apprx|approximately|\\,|less than|\\?)'\n",
    "rangeWord = r'(\\-|to|\\/|and|\\&|or)+'\n",
    "digits = r'(one|two|three|four|five|six|seven|eight|nine|ten|fifteen|twenty|thirty|forty five|forty-five|half)'\n",
    "\n",
    "base = r'^(\\d+)\\s*'+ units #1 day\n",
    "regex1 = r'^'+ around + r'\\s*(\\d+)\\s*'+ units #approx 1 min\n",
    "\n",
    "#regex2 = r'^(\\d+)\\s*'+ units + around #3 hrs approximately; redundant --> base case\n",
    "\n",
    "regex3 = r'^'+ around+ r'?' +'(\\d+)\\s*' + rangeWord + r'\\s*(\\d+)\\s*'+ units #1-3min\n",
    "regex4 = r'^'+ around+ r'?' + '(\\d+)\\s*' + units + r'\\s*' + rangeWord + r'\\s*(\\d+)\\s*'+ units # 1min - 3min\n",
    "regex5 = r'^(\\d+)\\s*(\\:+)\\s*(\\d+)\\s*(\\:+)\\s*(\\d+)'#00:04:56\n",
    "regex6 = r'^(\\d+)\\s*'+ around + r'\\s*' + units #30 plus mins\n",
    "regex7 = r'^(\\d+)\\s*(:+)\\s*(\\d+)'+ units + r'+' #1:00 mins\n",
    "regex8 = r'^(\\d+)(\\.+)(\\d+)\\s*'+units #4.5mins\n",
    "regex9 = r'^'+ digits + r'\\s*' + units # ten secs\n",
    "regex10 = r'^([a-zA-Z]+\\s*)(\\d+)'+ units # I viewed for 2 hours"
   ]
  },
  {
   "cell_type": "code",
   "execution_count": 2217,
   "metadata": {},
   "outputs": [],
   "source": [
    "varSec  = ['seconds','second','sec','secs','s','sec.','secs.','s.']\n",
    "varMin  = ['minutes','minute','min','mins','m','min.','mins.','m.']\n",
    "varHour = ['hours','hour','hr','hrs','h','hr.','hrs.','h.']\n",
    "varDay =  ['day','days']\n",
    "varWeek = ['week','weeks']\n",
    "\n",
    "def common_member(a, b): \n",
    "    a_set = set(a) \n",
    "    b_set = set(b) \n",
    "    if (a_set & b_set): \n",
    "        return True \n",
    "    else: \n",
    "        return False\n",
    "    \n",
    "def convert2seconds(pattern):\n",
    "    if common_member(pattern[1].lower(),varSec):\n",
    "        durations1.append(pattern[0])\n",
    "        t = str(int(pattern[0])) + ' seconds'\n",
    "        return t\n",
    "    elif common_member(pattern[1].lower(),varMin):\n",
    "        t = str(60*int(pattern[0])) + ' seconds'\n",
    "        return t\n",
    "    elif common_member(pattern[1].lower(),varHour):\n",
    "        t = str(60*60*int(pattern[0])) +' seconds'\n",
    "        return t\n",
    "    elif common_member(pattern[1].lower(),varDay):\n",
    "        t = str(24*60*60*int(pattern[0]))+' seconds'\n",
    "        return t\n",
    "    else:\n",
    "        t = str(7*24*60*60*int(pattern[0]))+' seconds'\n",
    "        return t\n",
    "    \n",
    "def floating_convert2seconds(pattern):\n",
    "    num = pattern[0]+'.'+pattern[2]\n",
    "    if common_member(pattern[3].lower(),varSec):\n",
    "        t = str(float(num)) + ' seconds'\n",
    "        return t\n",
    "    elif common_member(pattern[3].lower(),varMin):\n",
    "        t = str(int(60*float(num))) + ' seconds'\n",
    "        return t\n",
    "    elif common_member(pattern[3].lower(),varHour):\n",
    "        t = str(int(60*60*float(num))) +' seconds'\n",
    "        return t\n",
    "    else:\n",
    "        t = str(int(24*60*60*float(num)))+' seconds'\n",
    "        return t\n",
    "    \n",
    "def intervals_convert2seconds(pattern):\n",
    "    if len(pattern)==5:\n",
    "        hrs = 60*60*int(pattern[0])\n",
    "        mins = 60*int(pattern[2])\n",
    "        sec = int(pattern[4])\n",
    "        num = hrs+mins+sec\n",
    "        t = str(num)+' seconds'\n",
    "        return t\n",
    "    elif len(pattern)==4:\n",
    "        num = pattern[0]+'.'+pattern[2]\n",
    "        if pattern[3].lower() in varSec:\n",
    "            t = str(float(num)) + ' seconds'\n",
    "            return t\n",
    "        elif pattern[3].lower() in varMin:\n",
    "            t = str(int(60*float(num))) + ' seconds'\n",
    "            return t\n",
    "        elif pattern[3].lower() in varHour:\n",
    "            t = str(int(60*60*float(num))) +' seconds'\n",
    "            return t\n",
    "        elif pattern[3].lower() in varDay:\n",
    "            t = str(int(24*60*60*float(num))) +' seconds'\n",
    "            return t\n",
    "        else:\n",
    "            t = str(int(7*24*60*60*float(num)))+' seconds'\n",
    "            return t\n",
    "    \n",
    "\n",
    "def ranges_convert2seconds(pattern):\n",
    "    if len(pattern)==4:\n",
    "        a = pattern[0]\n",
    "        b = pattern[2]\n",
    "        c = float((int(a)+int(b))/2)\n",
    "        if pattern[3].lower() in varSec:\n",
    "            t=str(c)+ ' seconds'\n",
    "        elif pattern[3].lower() in varMin:\n",
    "            c=int(60*c)\n",
    "            t=str(c)+ ' seconds'\n",
    "        elif pattern[3].lower() in varHour:\n",
    "            c=int(60*60*c)\n",
    "            t=str(c)+ ' seconds'\n",
    "        elif pattern[3].lower() in varDay:\n",
    "            c=int(24*60*60*c)\n",
    "            t=str(c)+ ' seconds'\n",
    "        else:\n",
    "            c=int(7*24*60*60*c)\n",
    "            t=str(c)+ ' seconds'\n",
    "        return t\n",
    "    \n",
    "    elif len(pattern)==5:\n",
    "        a1 = int(pattern[0])\n",
    "        u1 = pattern[1]\n",
    "        r = pattern[2]\n",
    "        a2 = int(pattern[3])\n",
    "        u2 = pattern[4]\n",
    "        \n",
    "        #first part\n",
    "        if u1.lower() in varMin:\n",
    "            a1 = 60*a1\n",
    "        elif u1.lower() in varHour:\n",
    "            a1 =60*60*a1\n",
    "            \n",
    "        #second part\n",
    "        if u2.lower() in varMin:\n",
    "            a2 = 60*a2\n",
    "        elif u2.lower() in varHour:\n",
    "            a2 = 60* 60 *a2\n",
    "            \n",
    "        if r=='&' or r =='and' or r=='/':\n",
    "            c = a1+a2  \n",
    "        else:\n",
    "            c = float((a1+a2)/2)\n",
    "        t =str(c)+ ' seconds'\n",
    "        return t\n",
    "    "
   ]
  },
  {
   "cell_type": "code",
   "execution_count": 2218,
   "metadata": {},
   "outputs": [],
   "source": [
    "num2words = {'one':1, 'two':2,'three':3,'four':4,'five':5,'six':6,'seven':7,'eight':8,'nine':9,'ten':10,\n",
    "             'fifteen':15,'twenty':20,'thirty':30,'forty five':45,'forty-five':45,'half':0.5}\n",
    "\n",
    "def word_convert2seconds(pattern):\n",
    "    num = num2words[pattern[0].lower()]\n",
    "    units = pattern[1]\n",
    "    if common_member(units.lower(),varSec):\n",
    "        t = str(num) + ' seconds'\n",
    "        return t\n",
    "    elif common_member(units.lower(),varMin):\n",
    "        t = str(60*num) + ' seconds'\n",
    "        return t\n",
    "    elif common_member(units.lower(),varHour):\n",
    "        t = str(60*60*num) +' seconds'\n",
    "        return t\n",
    "    elif common_member(units.lower(),varDay):\n",
    "        t = str(24*60*60*num)+' seconds'\n",
    "        return t\n",
    "    else:\n",
    "        t = str(7*24*60*60*num)+' seconds'\n",
    "        return t\n",
    "    "
   ]
  },
  {
   "cell_type": "code",
   "execution_count": 2219,
   "metadata": {},
   "outputs": [],
   "source": [
    "import types\n",
    "def getValidRowsUpdated(toClean):\n",
    "    #validRows = []\n",
    "    indices = set()\n",
    "    flag=0\n",
    "    for index,row in toClean.iterrows(): \n",
    "        if 'float' not in str(type(row['Duration'])):\n",
    "            \n",
    "            duration  = str(row['Duration'])\n",
    "              \n",
    "            tup1 = re.search(base,duration,re.I)\n",
    "            if tup1 is not None:\n",
    "                update = convert2seconds(tup1.groups())\n",
    "                dataClean.iloc[index]['Duration'] = update\n",
    "                #validRows.append((index,tup1,'base'))\n",
    "                indices.add(index)\n",
    "                \n",
    "            tup2 = re.search(regex1,duration,re.I)\n",
    "            if tup2 is not None:\n",
    "                update = convert2seconds(tup2.groups())\n",
    "                dataClean.iloc[index]['Duration'] = update\n",
    "                #validRows.append((index,tup2,'regex1'))\n",
    "                indices.add(index)\n",
    "                \n",
    "            tup6 = re.search(regex5,duration,re.I)\n",
    "            if tup6 is not None:\n",
    "                update = intervals_convert2seconds(tup6.groups())\n",
    "                dataClean.iloc[index]['Duration'] = update\n",
    "                #validRows.append((index,tup6,'regex5'))\n",
    "                #print(tup6,update)\n",
    "                indices.add(index)\n",
    "                \n",
    "            tup9 = re.search(regex8,duration,re.I)\n",
    "            if tup9 is not None:\n",
    "                update = floating_convert2seconds(tup9.groups())\n",
    "                dataClean.iloc[index]['Duration'] = update\n",
    "                #validRows.append((index,tup9,'regex7'))\n",
    "                #print(tup9,update)\n",
    "                indices.add(index)\n",
    "            \n",
    "            \n",
    "            tup7 = re.search(regex6,duration,re.I)\n",
    "            if tup7 is not None:\n",
    "                update = convert2seconds(tup7.groups())\n",
    "                dataClean.iloc[index]['Duration'] = update\n",
    "                #validRows.append((index,tup7,'regex7'))\n",
    "                #print(tup7,update)\n",
    "                indices.add(index)\n",
    "                \n",
    "                \n",
    "            tup8 = re.search(regex7,duration,re.I)\n",
    "            if tup8 is not None:\n",
    "                update = intervals_convert2seconds(tup8.groups())\n",
    "                dataClean.iloc[index]['Duration'] = update\n",
    "                #print(tup8,update)\n",
    "                #validRows.append((index,tup8,'regex7'))\n",
    "                indices.add(index)\n",
    "            \n",
    "                    \n",
    "            tup4 = re.search(regex3,duration,re.I)\n",
    "            if tup4 is not None:\n",
    "                update = ranges_convert2seconds(tup4.groups())\n",
    "                dataClean.iloc[index]['Duration'] = update\n",
    "                #validRows.append((index,tup4,'regex3'))\n",
    "                #print(tup4,update)\n",
    "                indices.add(index)\n",
    "                \n",
    "            \n",
    "            tup5 = re.search(regex4,duration,re.I)\n",
    "            if tup5 is not None:\n",
    "                update = ranges_convert2seconds(tup5.groups())\n",
    "                dataClean.iloc[index]['Duration'] = update\n",
    "                #validRows.append((index,tup5,'regex4'))\n",
    "                #print(tup5,update)\n",
    "                indices.add(index)\n",
    "            \n",
    "            \n",
    "            tup10 = re.search(regex9,duration,re.I)\n",
    "            if tup10 is not None:\n",
    "                update = word_convert2seconds(tup10.groups())\n",
    "                dataClean.iloc[index]['Duration'] = update\n",
    "                #validRows.append((index,tup10,'regex9'))\n",
    "                #print(tup10,update)\n",
    "                indices.add(index)\n",
    "            \n",
    "            tup11 = re.search(regex10,duration,re.I)\n",
    "            if tup11 is not None:\n",
    "                g = [tup11.groups()[1],tup11.groups()[2]]\n",
    "                update = convert2seconds(g)\n",
    "                dataClean.iloc[index]['Duration'] = update\n",
    "                #validRows.append((index,tup11,'regex10'))\n",
    "                indices.add(index)\n",
    "            \n",
    "                    \n",
    "    return indices"
   ]
  },
  {
   "cell_type": "code",
   "execution_count": 2220,
   "metadata": {
    "scrolled": true
   },
   "outputs": [],
   "source": [
    "rows = list(getValidRowsUpdated(dataClean))"
   ]
  },
  {
   "cell_type": "code",
   "execution_count": 2221,
   "metadata": {},
   "outputs": [
    {
     "name": "stdout",
     "output_type": "stream",
     "text": [
      "(4266, 7)\n"
     ]
    }
   ],
   "source": [
    "for index, row in dataClean.iterrows():\n",
    "    if index not in rows:\n",
    "        dataClean.drop(index,inplace=True)\n",
    "print(dataClean.shape)"
   ]
  },
  {
   "cell_type": "code",
   "execution_count": 2222,
   "metadata": {},
   "outputs": [
    {
     "data": {
      "text/html": [
       "<div>\n",
       "<style scoped>\n",
       "    .dataframe tbody tr th:only-of-type {\n",
       "        vertical-align: middle;\n",
       "    }\n",
       "\n",
       "    .dataframe tbody tr th {\n",
       "        vertical-align: top;\n",
       "    }\n",
       "\n",
       "    .dataframe thead th {\n",
       "        text-align: right;\n",
       "    }\n",
       "</style>\n",
       "<table border=\"1\" class=\"dataframe\">\n",
       "  <thead>\n",
       "    <tr style=\"text-align: right;\">\n",
       "      <th></th>\n",
       "      <th>Date / Time</th>\n",
       "      <th>City</th>\n",
       "      <th>State</th>\n",
       "      <th>Shape</th>\n",
       "      <th>Duration</th>\n",
       "      <th>Summary</th>\n",
       "      <th>Posted</th>\n",
       "    </tr>\n",
       "  </thead>\n",
       "  <tbody>\n",
       "    <tr>\n",
       "      <td>0</td>\n",
       "      <td>9/10/19 22:10</td>\n",
       "      <td>Lake Worth</td>\n",
       "      <td>TX</td>\n",
       "      <td>Light</td>\n",
       "      <td>30 seconds</td>\n",
       "      <td>Two bright objects moving in formation.</td>\n",
       "      <td>9/12/19</td>\n",
       "    </tr>\n",
       "    <tr>\n",
       "      <td>1</td>\n",
       "      <td>9/6/19 21:00</td>\n",
       "      <td>League City</td>\n",
       "      <td>TX</td>\n",
       "      <td>Formation</td>\n",
       "      <td>120 seconds</td>\n",
       "      <td>As we were heading northbound on Hobbs Road in...</td>\n",
       "      <td>9/12/19</td>\n",
       "    </tr>\n",
       "    <tr>\n",
       "      <td>2</td>\n",
       "      <td>9/5/19 07:30</td>\n",
       "      <td>Weatherford</td>\n",
       "      <td>TX</td>\n",
       "      <td>Cylinder</td>\n",
       "      <td>30 seconds</td>\n",
       "      <td>Re-entry moving W, W of Weatherford, TX.</td>\n",
       "      <td>9/12/19</td>\n",
       "    </tr>\n",
       "    <tr>\n",
       "      <td>3</td>\n",
       "      <td>9/4/19 23:00</td>\n",
       "      <td>Ozona</td>\n",
       "      <td>TX</td>\n",
       "      <td>Light</td>\n",
       "      <td>12 seconds</td>\n",
       "      <td>Light almost like a plane flying quickly above...</td>\n",
       "      <td>9/6/19</td>\n",
       "    </tr>\n",
       "    <tr>\n",
       "      <td>4</td>\n",
       "      <td>9/1/19 20:30</td>\n",
       "      <td>League City</td>\n",
       "      <td>TX</td>\n",
       "      <td>Circle</td>\n",
       "      <td>300 seconds</td>\n",
       "      <td>8-9 Orange glowing objects in single file line...</td>\n",
       "      <td>9/6/19</td>\n",
       "    </tr>\n",
       "  </tbody>\n",
       "</table>\n",
       "</div>"
      ],
      "text/plain": [
       "     Date / Time         City State      Shape     Duration  \\\n",
       "0  9/10/19 22:10   Lake Worth    TX      Light   30 seconds   \n",
       "1   9/6/19 21:00  League City    TX  Formation  120 seconds   \n",
       "2   9/5/19 07:30  Weatherford    TX   Cylinder   30 seconds   \n",
       "3   9/4/19 23:00        Ozona    TX      Light   12 seconds   \n",
       "4   9/1/19 20:30  League City    TX     Circle  300 seconds   \n",
       "\n",
       "                                             Summary   Posted  \n",
       "0            Two bright objects moving in formation.  9/12/19  \n",
       "1  As we were heading northbound on Hobbs Road in...  9/12/19  \n",
       "2           Re-entry moving W, W of Weatherford, TX.  9/12/19  \n",
       "3  Light almost like a plane flying quickly above...   9/6/19  \n",
       "4  8-9 Orange glowing objects in single file line...   9/6/19  "
      ]
     },
     "execution_count": 2222,
     "metadata": {},
     "output_type": "execute_result"
    }
   ],
   "source": [
    "dataClean.head()"
   ]
  },
  {
   "cell_type": "code",
   "execution_count": 2223,
   "metadata": {},
   "outputs": [
    {
     "name": "stdout",
     "output_type": "stream",
     "text": [
      "Original data set had 5046 rows\n",
      "Validates data set has 4266 rows\n"
     ]
    }
   ],
   "source": [
    "# total rows in original dataset\n",
    "print('Original data set had',data.shape[0] ,'rows')\n",
    "# valid rows in your new 'validated' dataset\n",
    "print('Validates data set has',dataClean.shape[0] ,'rows')"
   ]
  },
  {
   "cell_type": "code",
   "execution_count": 2224,
   "metadata": {},
   "outputs": [],
   "source": [
    "time=[]\n",
    "durationDF=dataClean['Duration']\n",
    "for dur in durationDF:\n",
    "    t = dur.split()[0]\n",
    "    #print(t)\n",
    "    time.append(float(dur.split()[0]))"
   ]
  },
  {
   "cell_type": "code",
   "execution_count": 2225,
   "metadata": {},
   "outputs": [],
   "source": [
    "dataClean['Time']=time"
   ]
  },
  {
   "cell_type": "code",
   "execution_count": 2240,
   "metadata": {
    "scrolled": false
   },
   "outputs": [
    {
     "name": "stdout",
     "output_type": "stream",
     "text": [
      "Maximum duration: 604800.0\n",
      "Minimum duration: 0.5\n",
      "Mean duration: 964.6439404594468\n",
      "Standard Deviation: 16071.110272541353\n",
      "Median: 120.0\n"
     ]
    },
    {
     "data": {
      "image/png": "[encoded data removed]",
      "text/plain": [
       "<Figure size 1440x1440 with 1 Axes>"
      ]
     },
     "metadata": {
      "needs_background": "light"
     },
     "output_type": "display_data"
    },
    {
     "name": "stdout",
     "output_type": "stream",
     "text": [
      "\n",
      "count      4266.000000\n",
      "mean        964.643940\n",
      "std       16071.110273\n",
      "min           0.500000\n",
      "25%          15.000000\n",
      "50%         120.000000\n",
      "75%         600.000000\n",
      "max      604800.000000\n",
      "Name: Time, dtype: float64\n"
     ]
    }
   ],
   "source": [
    "# report the basic statistics of duration in your cleaned dataset\n",
    "# draw a boxplot for your cleaned dataset\n",
    "\n",
    "import matplotlib.pyplot as plt\n",
    "import statistics\n",
    "\n",
    "print('Maximum duration:',float(max(time)) )\n",
    "print('Minimum duration:',float(min(time)) )\n",
    "print('Mean duration:',statistics.mean(time) )\n",
    "print('Standard Deviation:',statistics.stdev(time) )\n",
    "print('Median:',statistics.median(time))\n",
    "\n",
    "# boxplot code here\n",
    "plt.figure(figsize=(20,20))\n",
    "plt.boxplot(durations)\n",
    "\n",
    "#plt.ylim(0,4000)\n",
    "plt.show()\n",
    "print()\n",
    "\n",
    "print(dataClean['Time'].describe())"
   ]
  },
  {
   "cell_type": "markdown",
   "metadata": {},
   "source": [
    "Now, introduce your cleaning process step by step and explain the reason behind your steps. Then, revisit your two boxplots -- for the initial \"valid\" dataset and then for your cleaned dataset. What do you observe? What differences does cleaning have? Would you imagine your downstream analyses would be affected by this cleaning step? Explain."
   ]
  },
  {
   "cell_type": "markdown",
   "metadata": {},
   "source": [
    "### Cleaning Process\n",
    "#### I have cleaned my data to capture cases such as the ones shown below as valid entries:\n",
    "- 1 day\n",
    "- 'approx'/'about'/'>'/'<'/'~' 1 min\n",
    "- 1-3min (Stored as the average of the range)\n",
    "- 1min -3min (Stored as the average of the range)\n",
    "- 00:04:56\n",
    "- 30 plus mins (Stored as 30 mins)\n",
    "- 1:00 mins\n",
    "- 4.5mins\n",
    "- ten secs, half hour (convert to 10 secs, 0.5 hours)\n",
    "- I viewed for 2 hours (extract 2 hours)\n",
    "- 1 hour & 45 mins (Stored as sum)\n",
    "- 1 or 2 minutes (Stored as the average of the range)\n",
    "- 30 plus minutes\n",
    "- 6 hrs+\n",
    "- 20 secs?\n",
    "- 15/20 sec. (Stored as the average of the range)\n",
    "\n",
    "#### Some known cases that haven't been handled or are not considered valid entries:\n",
    "- Empty Cells/NaN\n",
    "- Cells that contain 'Unknown'\n",
    "- Entries that had no units\n",
    "- 7:13 to 8:30 \n",
    "    Since the numbers are not followed by am/pm, I wasn't sure whether I should count them as timestamps or numbers(7.13 to 8.30). \n",
    "    - Number case: No units present. Therefore, classified as invalid entry\n",
    "    - Timestamp: Still ambiguous. Could be (7:13am to 8:30pm) or (7:13pm to 8:30pm)\n",
    "- 10 20 sec\n",
    "    Could be any of these: 1020sec or 10-20sec or 10min-20sec.  \n",
    "- few minute (maybe 2-3)\n",
    "    Cases like this one are hard to predict. Therefore, designing a regular expression to catch such a case is difficult.\n",
    "\n",
    "### Boxplot Analyses\n",
    "\n",
    "'Valid' Data\n",
    "count      2540.000000\n",
    "mean       1528.982283\n",
    "std       16169.223413\n",
    "min           1.000000\n",
    "25%          20.000000\n",
    "50%         120.000000\n",
    "75%         600.000000\n",
    "max      604800.000000\n",
    "\n",
    "Cleaned Data\n",
    "count      4266.000000\n",
    "mean        964.643940\n",
    "std       16071.110273\n",
    "min           0.500000\n",
    "25%          15.000000\n",
    "50%         120.000000\n",
    "75%         600.000000\n",
    "max      604800.000000\n",
    "\n",
    "- I was losing 40.45% of valuable entries because of formatting incosistency in 'valid dataset'.\n",
    "\n",
    "- In 'valid' data, there were lesser entries with small durations such as 1-5 seconds when compared to the cleaned dataset. This is indicated by the '25%' quartile measure. The 'valid' data has a greater '25%' quartile value.\n",
    "\n",
    "- With an increase in the number of entries and maybe addition of shorter durations, the mean has significantly dropped. However, the standard deviation remains consistent.\n",
    "\n",
    "- Values for the 50% quartile, 70% quartile and max remains the same. \n",
    "\n",
    "\n",
    "\n",
    "### Would you imagine your downstream analyses would be affected by this cleaning step?\n",
    "\n",
    "Yes, cleaning would definitely improve my analysis. With cleaning we reduce loss of data, inaccuracy and redundancy while making it more usable/uniform!\n",
    "\n"
   ]
  },
  {
   "cell_type": "markdown",
   "metadata": {},
   "source": [
    "## (10 points) Part 1d: Probe This, you Alien Invaders.\n",
    "Finally, let's begin our initial analysis of the cleaned UFO dataset. In this section, we're going to do some plotting with matplotlib and draw some initial conclusions that may guide our future study of this UFO dataset. "
   ]
  },
  {
   "cell_type": "markdown",
   "metadata": {},
   "source": [
    "Question 1: Which **shapes** are most observed?"
   ]
  },
  {
   "cell_type": "code",
   "execution_count": 2227,
   "metadata": {},
   "outputs": [
    {
     "data": {
      "image/png": "[encoded data removed]",
      "text/plain": [
       "<Figure size 720x720 with 1 Axes>"
      ]
     },
     "metadata": {},
     "output_type": "display_data"
    },
    {
     "data": {
      "image/png": "[encoded data removed]",
      "text/plain": [
       "<Figure size 1080x1080 with 1 Axes>"
      ]
     },
     "metadata": {
      "needs_background": "light"
     },
     "output_type": "display_data"
    }
   ],
   "source": [
    "\n",
    "# create a plot of shapes (your choice of what you consider the appropriate plot)\n",
    "import matplotlib.pyplot as plt\n",
    "\n",
    "l = dataClean['Shape'].str.lower().value_counts()\n",
    "\n",
    "plt.figure(figsize=(10,10))\n",
    "l.plot.pie()\n",
    "plt.show()\n",
    "\n",
    "plt.figure(figsize=(15,15))\n",
    "l.plot.bar()\n",
    "plt.show()\n"
   ]
  },
  {
   "cell_type": "markdown",
   "metadata": {},
   "source": [
    "\n",
    "Question 2: Do different UFO shapes have different durations?"
   ]
  },
  {
   "cell_type": "code",
   "execution_count": 2228,
   "metadata": {
    "scrolled": false
   },
   "outputs": [
    {
     "data": {
      "image/png": "[encoded data removed]",
      "text/plain": [
       "<Figure size 1080x1080 with 1 Axes>"
      ]
     },
     "metadata": {
      "needs_background": "light"
     },
     "output_type": "display_data"
    }
   ],
   "source": [
    "dataClean['Time'] = time\n",
    "\n",
    "dataClean['Shape'] = dataClean['Shape'].str.lower()\n",
    "shapes = dataClean.groupby('Shape')['Time'].mean()\n",
    "D = dict(shapes)\n",
    "plt.figure(figsize=(15,15))\n",
    "plt.barh(*zip(*D.items()))\n",
    "plt.show()"
   ]
  },
  {
   "cell_type": "markdown",
   "metadata": {},
   "source": [
    "Question 3: Are there more UFO sightings in recent years than in the past?"
   ]
  },
  {
   "cell_type": "code",
   "execution_count": 2229,
   "metadata": {},
   "outputs": [
    {
     "data": {
      "image/png": "[encoded data removed]",
      "text/plain": [
       "<Figure size 1080x1080 with 1 Axes>"
      ]
     },
     "metadata": {
      "needs_background": "light"
     },
     "output_type": "display_data"
    }
   ],
   "source": [
    "# your code here\n",
    "# you might want to bucket the sightings into years\n",
    "# or perhaps you have some other ideas. we are flexible.\n",
    "dataClean['Posted'] = pd.to_datetime(dataClean['Posted'],errors='coerce')\n",
    "dataClean['Year'] = dataClean['Posted'].map(lambda x:x.strftime('%Y'))\n",
    "\n",
    "yearDF=dataClean.groupby('Year').size()\n",
    "\n",
    "Y = dict(yearDF)\n",
    "plt.figure(figsize=(15,15))\n",
    "plt.barh(*zip(*Y.items()))\n",
    "plt.show()"
   ]
  },
  {
   "cell_type": "markdown",
   "metadata": {},
   "source": [
    "Question 4: Based on your observations and analyses, what are some important next steps we should take?"
   ]
  },
  {
   "cell_type": "markdown",
   "metadata": {},
   "source": [
    "#### Next Steps:\n",
    "\n",
    "I would suggest focusing on UFO sightings in the entries from 2003 to 2015. The number of entries during this period has been fairly consistent and therefore, finding most common UFO shapes or avergae time of oservation might be more useful in the 'UFO study'. \n",
    "\n",
    "Additionally, it would be interesting to see which places/cities have the experienced the most activity: (year,places), (shapes,places). Maybe these sightings could also be attributed to landscapes, climate, education background of its residents, etc.\n",
    "\n",
    "\n"
   ]
  },
  {
   "cell_type": "markdown",
   "metadata": {},
   "source": [
    "## (40 points) Part 2: Association Rules in Movie Rating Behaviors\n",
    "In this part, we are going to leave the study of UFOs behind us. Now we are going to examine movies using our understanding of association rules. For this part, you need to implement the apriori algorithm, and apply it to a movie rating dataset to find association rules of user movie rating behaviors. First, run the next cell to load the dataset we are going to use."
   ]
  },
  {
   "cell_type": "code",
   "execution_count": 2230,
   "metadata": {},
   "outputs": [
    {
     "data": {
      "text/html": [
       "<div>\n",
       "<style scoped>\n",
       "    .dataframe tbody tr th:only-of-type {\n",
       "        vertical-align: middle;\n",
       "    }\n",
       "\n",
       "    .dataframe tbody tr th {\n",
       "        vertical-align: top;\n",
       "    }\n",
       "\n",
       "    .dataframe thead th {\n",
       "        text-align: right;\n",
       "    }\n",
       "</style>\n",
       "<table border=\"1\" class=\"dataframe\">\n",
       "  <thead>\n",
       "    <tr style=\"text-align: right;\">\n",
       "      <th></th>\n",
       "      <th>userId</th>\n",
       "      <th>movieId</th>\n",
       "    </tr>\n",
       "  </thead>\n",
       "  <tbody>\n",
       "    <tr>\n",
       "      <td>0</td>\n",
       "      <td>1</td>\n",
       "      <td>2160</td>\n",
       "    </tr>\n",
       "    <tr>\n",
       "      <td>1</td>\n",
       "      <td>1</td>\n",
       "      <td>2312</td>\n",
       "    </tr>\n",
       "    <tr>\n",
       "      <td>2</td>\n",
       "      <td>1</td>\n",
       "      <td>144</td>\n",
       "    </tr>\n",
       "    <tr>\n",
       "      <td>3</td>\n",
       "      <td>1</td>\n",
       "      <td>480</td>\n",
       "    </tr>\n",
       "    <tr>\n",
       "      <td>4</td>\n",
       "      <td>2</td>\n",
       "      <td>2160</td>\n",
       "    </tr>\n",
       "  </tbody>\n",
       "</table>\n",
       "</div>"
      ],
      "text/plain": [
       "   userId  movieId\n",
       "0       1     2160\n",
       "1       1     2312\n",
       "2       1      144\n",
       "3       1      480\n",
       "4       2     2160"
      ]
     },
     "execution_count": 2230,
     "metadata": {},
     "output_type": "execute_result"
    }
   ],
   "source": [
    "# First load the dataset\n",
    "import pandas as pd\n",
    "movie_rating_df = pd.read_csv('./movie_rated.csv')\n",
    "movie_rating_df.head()"
   ]
  },
  {
   "cell_type": "markdown",
   "metadata": {},
   "source": [
    "In this dataset, there are two columns: userId is the integer ids of users, and movieId is the integer ids of movies. Each row denotes that the user of given userId rated the movie of the given movieId. We are going to treat each user as a \"basket\", so you will need to collect all the movies that have been rated by a single user as a basket. \n",
    "\n",
    "Now, you need to implement the apriori algorithm and apply it to this dataset to find association rules of user rating behaviors with **minimum support of 0.2** and **minimum confidence of 0.8**. We know there are many existing implementations of apriori online (check github for some good starting points). You are welcome to read existing codebases and let that inform your approach. Do not copy-paste any existing code. We want your code to have sufficient comments to explain your steps, to show us that you really know what you are doing. Furthermore, you should add print statements to print out the intermediate steps of your method -- e.g., the size of the candidate set at each step of the method, the size of the filtered set, and any other important information you think will highlight the method. "
   ]
  },
  {
   "cell_type": "code",
   "execution_count": 2231,
   "metadata": {
    "scrolled": true
   },
   "outputs": [],
   "source": [
    "user2movie = {}\n",
    "movie2user = {}\n",
    "movie2support = []\n",
    "\n",
    "for index,row in movie_rating_df.iterrows():\n",
    "    if row['userId'] in user2movie:\n",
    "        user2movie[row['userId']].append(row['movieId'])\n",
    "    else:\n",
    "        user2movie[row['userId']] = [row['movieId']]\n",
    "    if row['movieId'] in movie2user:\n",
    "        movie2user[row['movieId']].append([row['userId']])\n",
    "    else:\n",
    "        movie2user[row['movieId']] = [row['userId']]\n",
    "        \n",
    "for key,val in movie2user.items():\n",
    "    sup = float(len(movie2user[key])/len(user2movie))\n",
    "    tup = ([key], sup,0)\n",
    "    #save this as a list of tuples\n",
    "    movie2support.append(tup)\n",
    "    "
   ]
  },
  {
   "cell_type": "code",
   "execution_count": 2232,
   "metadata": {},
   "outputs": [],
   "source": [
    "import copy\n",
    "\n",
    "def Union(lst1, lst2): \n",
    "    final_list = list(set(lst1) | set(lst2)) \n",
    "    return final_list \n",
    "\n",
    "def intersection(lst1, lst2): \n",
    "    lst3 = [value for value in lst1 if value in lst2] \n",
    "    return lst3\n",
    "\n",
    "def findSup(intersection,user2movies):\n",
    "    baskets = 0 #total number of baskets in which itemset is found\n",
    "    for key,val in user2movies.items():\n",
    "        list1 = val\n",
    "        list2 = list(intersection)\n",
    "        flag = 0\n",
    "        #check if list1 contains all elements in list2\n",
    "        for i in range(len(list2)):\n",
    "            if list2[i] not in list1:\n",
    "                flag = 1\n",
    "        #if yes, add this basket\n",
    "        if flag==0:\n",
    "            baskets+=1 \n",
    "    return float(baskets/len(user2movie)),baskets #return support for this itemset\n",
    "   \n",
    "def joinandPrune(supTable,k,minsup,user2movies):\n",
    "    elemCommon = k-2 #Number of elements that it should have in common to join with that itemset\n",
    "    joinedTable = []\n",
    "    seenUnions = [] # to avoid already seen itemsets\n",
    "    for i in range(len(supTable)):\n",
    "        for j in range(len(supTable)):\n",
    "            k1= supTable[i][0]\n",
    "            k2= supTable[j][0]\n",
    "            if (k1!=k2):\n",
    "                intersection1 = intersection(k1,k2) # find intersection of 2 itemsets\n",
    "                uni = Union(k1,k2) # find union of the 2 itemsets\n",
    "                sortedUni = sorted(uni)\n",
    "                if(len(intersection1)>= elemCommon and len(sortedUni)==k and sortedUni not in seenUnions):\n",
    "                    seenUnions.append(sortedUni)\n",
    "                    newSupport,baskets = findSup(sortedUni,user2movies)\n",
    "                    if minsup < newSupport:\n",
    "                        t=(sortedUni,newSupport,baskets)\n",
    "                        joinedTable.append(t)\n",
    "    return joinedTable"
   ]
  },
  {
   "cell_type": "code",
   "execution_count": 2233,
   "metadata": {},
   "outputs": [],
   "source": [
    "def aprioriAlgo(minsup, supTable1, user2movies):\n",
    "    k=1\n",
    "    mastersetItemsets = []\n",
    "    length = len(supTable1)\n",
    "    supTable = copy.deepcopy(supTable1)\n",
    "    while length>0:\n",
    "        if k==1:\n",
    "            print(\"For k:\",k)\n",
    "            print(\"Before pruning we have\", length,\"itemsets\")\n",
    "            supTable = [x for x in supTable if  (x[1]>=minsup)]\n",
    "            print(\"After pruning we have\", len(supTable),\"itemsets\")\n",
    "            print()          \n",
    "        else:\n",
    "            print(\"For k:\",k)\n",
    "            print(\"Before pruning we have\", length,\"itemsets\")\n",
    "            #We join itemsets and then returned pruned table\n",
    "            supTable = joinandPrune(supTable, k, minsup, user2movies)\n",
    "            print(\"After pruning we have\", len(supTable),\"itemsets\")\n",
    "            print()\n",
    "        for i in range(len(supTable)):\n",
    "            mastersetItemsets.append((supTable[i][0], supTable[i][1],supTable[i][2]))\n",
    "        length = len(supTable)\n",
    "        k+=1\n",
    "    return mastersetItemsets\n",
    "        "
   ]
  },
  {
   "cell_type": "code",
   "execution_count": 2234,
   "metadata": {
    "scrolled": false
   },
   "outputs": [
    {
     "name": "stdout",
     "output_type": "stream",
     "text": [
      "For k: 1\n",
      "Before pruning we have 408 itemsets\n",
      "After pruning we have 21 itemsets\n",
      "\n",
      "For k: 2\n",
      "Before pruning we have 21 itemsets\n",
      "After pruning we have 36 itemsets\n",
      "\n",
      "For k: 3\n",
      "Before pruning we have 36 itemsets\n",
      "After pruning we have 12 itemsets\n",
      "\n",
      "For k: 4\n",
      "Before pruning we have 12 itemsets\n",
      "After pruning we have 0 itemsets\n",
      "\n"
     ]
    }
   ],
   "source": [
    "movie2supportCopy = copy.deepcopy(movie2support)\n",
    "\n",
    "minsup = 0.2\n",
    "minconf = 0.8\n",
    "\n",
    "a = aprioriAlgo(minsup, movie2support,user2movie)"
   ]
  },
  {
   "cell_type": "code",
   "execution_count": 2235,
   "metadata": {
    "scrolled": false
   },
   "outputs": [],
   "source": [
    "import itertools\n",
    "\n",
    "def sub_lists(list1): \n",
    "    sublist = [[]] \n",
    "    for i in range(len(list1) + 1): \n",
    "        for j in range(i + 1, len(list1) + 1):  \n",
    "            sub = list1[i:j] \n",
    "            sublist.append(sub) \n",
    "    return sublist\n",
    "\n",
    "def findIndex(ele,a):\n",
    "    count=0\n",
    "    for x in a:\n",
    "        if x[0] == ele:\n",
    "            return count\n",
    "        count+=1\n",
    "        \n",
    "def getAssociationRules(a,minconf):     \n",
    "    ans=[]\n",
    "    for i in range(len(a)):\n",
    "        sublists = []\n",
    "        if len(a[i]) ==1 :\n",
    "            continue\n",
    "        for L in range(1, len(a[i][0])):\n",
    "            sublists.extend(list(map(list,itertools.combinations(a[i][0], L))))\n",
    "        for x in sublists:\n",
    "            if len(x)>0:\n",
    "                sorted(x)\n",
    "                index =  findIndex(x,a)\n",
    "                conf = float(a[i][1]/a[index][1])\n",
    "                if(conf>=minconf):\n",
    "                    ans.append((a[i][0],a[index][0]))\n",
    "    return ans"
   ]
  },
  {
   "cell_type": "code",
   "execution_count": 2236,
   "metadata": {
    "scrolled": false
   },
   "outputs": [
    {
     "name": "stdout",
     "output_type": "stream",
     "text": [
      "Total number of association rules found: 14\n"
     ]
    }
   ],
   "source": [
    "rules = getAssociationRules(a,0.8)\n",
    "print(\"Total number of association rules found:\",len(rules))"
   ]
  },
  {
   "cell_type": "code",
   "execution_count": 2237,
   "metadata": {},
   "outputs": [
    {
     "data": {
      "text/plain": [
       "[([858, 1221], [1221]),\n",
       " ([260, 1387], [1387]),\n",
       " ([260, 480, 1270], [480, 1270]),\n",
       " ([260, 480, 1197], [480, 1197]),\n",
       " ([260, 480, 2028], [480, 2028]),\n",
       " ([260, 858, 1221], [260, 1221]),\n",
       " ([260, 858, 1221], [858, 1221]),\n",
       " ([1197, 1265, 1270], [1197, 1265]),\n",
       " ([260, 1265, 1270], [260, 1265]),\n",
       " ([260, 1197, 1270], [260, 1197]),\n",
       " ([260, 1197, 1270], [1197, 1270]),\n",
       " ([260, 527, 1270], [527, 1270]),\n",
       " ([260, 1270, 2028], [1270, 2028]),\n",
       " ([260, 1197, 2028], [1197, 2028])]"
      ]
     },
     "execution_count": 2237,
     "metadata": {},
     "output_type": "execute_result"
    }
   ],
   "source": [
    "rules"
   ]
  },
  {
   "cell_type": "markdown",
   "metadata": {},
   "source": [
    "Finally, print your final association rules in the following format:\n",
    "\n",
    "**movie_name_1, movie_name_2, ... --> movie_name_k**\n",
    "\n",
    "where the movie names can be fetched by joining the movieId with the file 'movies.dat'. For example, one rule that you should find is:\n",
    "\n",
    "**Jurassic Park (1993), Back to the Future (1985) --> Star Wars: Episode IV - A New Hope (1977)**\n"
   ]
  },
  {
   "cell_type": "code",
   "execution_count": 2238,
   "metadata": {},
   "outputs": [],
   "source": [
    "# just the rules\n",
    "import io\n",
    "dic ={}\n",
    "\n",
    "#Read the dat file; covert it to a dictionary --> key:movieId, value:movieName\n",
    "for line in io.open(\"movies.dat\", encoding=\"ISO-8859-1\"):\n",
    "    a = line.split('::')\n",
    "    key = a[0]\n",
    "    val = a[1]\n",
    "    dic[key]=val"
   ]
  },
  {
   "cell_type": "code",
   "execution_count": 2239,
   "metadata": {},
   "outputs": [
    {
     "name": "stdout",
     "output_type": "stream",
     "text": [
      "['Godfather: Part II, The (1974)'] -> ['Godfather, The (1972)']\n",
      "\n",
      "\n",
      "['Jaws (1975)'] -> ['Star Wars: Episode IV - A New Hope (1977)']\n",
      "\n",
      "\n",
      "['Jurassic Park (1993)', 'Back to the Future (1985)'] -> ['Star Wars: Episode IV - A New Hope (1977)']\n",
      "\n",
      "\n",
      "['Jurassic Park (1993)', 'Princess Bride, The (1987)'] -> ['Star Wars: Episode IV - A New Hope (1977)']\n",
      "\n",
      "\n",
      "['Jurassic Park (1993)', 'Saving Private Ryan (1998)'] -> ['Star Wars: Episode IV - A New Hope (1977)']\n",
      "\n",
      "\n",
      "['Star Wars: Episode IV - A New Hope (1977)', 'Godfather: Part II, The (1974)'] -> ['Godfather, The (1972)']\n",
      "\n",
      "\n",
      "['Godfather, The (1972)', 'Godfather: Part II, The (1974)'] -> ['Star Wars: Episode IV - A New Hope (1977)']\n",
      "\n",
      "\n",
      "['Groundhog Day (1993)', 'Princess Bride, The (1987)'] -> ['Back to the Future (1985)']\n",
      "\n",
      "\n",
      "['Groundhog Day (1993)', 'Star Wars: Episode IV - A New Hope (1977)'] -> ['Back to the Future (1985)']\n",
      "\n",
      "\n",
      "['Star Wars: Episode IV - A New Hope (1977)', 'Princess Bride, The (1987)'] -> ['Back to the Future (1985)']\n",
      "\n",
      "\n",
      "['Princess Bride, The (1987)', 'Back to the Future (1985)'] -> ['Star Wars: Episode IV - A New Hope (1977)']\n",
      "\n",
      "\n",
      "['Back to the Future (1985)', \"Schindler's List (1993)\"] -> ['Star Wars: Episode IV - A New Hope (1977)']\n",
      "\n",
      "\n",
      "['Saving Private Ryan (1998)', 'Back to the Future (1985)'] -> ['Star Wars: Episode IV - A New Hope (1977)']\n",
      "\n",
      "\n",
      "['Saving Private Ryan (1998)', 'Princess Bride, The (1987)'] -> ['Star Wars: Episode IV - A New Hope (1977)']\n",
      "\n",
      "\n"
     ]
    }
   ],
   "source": [
    "def Diff(li1, li2): \n",
    "    return (list(set(li1) - set(li2))) \n",
    "\n",
    "def to_str(var):\n",
    "    return str(list(np.reshape(np.asarray(var), (1, np.size(var)))[0]))[1:-1]\n",
    "\n",
    "for tup in rules:\n",
    "    a=tup[0]\n",
    "    b=tup[1]\n",
    "    c = Diff(a,b)\n",
    "    d = Diff(a,c)\n",
    "    e = []\n",
    "    f = []\n",
    "    for entry in d:\n",
    "        e.append(dic[to_str(entry)])\n",
    "    for entry in c:\n",
    "        f.append(dic[to_str(entry)])\n",
    "    print(e,'->',f)\n",
    "    #print(d,'->',c)\n",
    "    print()\n",
    "    print()\n"
   ]
  },
  {
   "cell_type": "markdown",
   "metadata": {},
   "source": [
    "## (5 points) BONUS\n",
    "\n",
    "Finally, we'll set aside a few bonus points (like 1-5) for any improvement for the apriori algorithm, such as the SON algorithm or Toivonen’s algorithm. Specify the algorithm you are implementing, apply it to the same dataset we used above and report the results, and discuss how this algorithm is different from the conventional apriori algorithm."
   ]
  },
  {
   "cell_type": "code",
   "execution_count": null,
   "metadata": {},
   "outputs": [],
   "source": [
    "## your code here"
   ]
  }
 ],
 "metadata": {
  "anaconda-cloud": {},
  "kernelspec": {
   "display_name": "Python 3",
   "language": "python",
   "name": "python3"
  },
  "language_info": {
   "codemirror_mode": {
    "name": "ipython",
    "version": 3
   },
   "file_extension": ".py",
   "mimetype": "text/x-python",
   "name": "python",
   "nbconvert_exporter": "python",
   "pygments_lexer": "ipython3",
   "version": "3.7.3"
  }
 },
 "nbformat": 4,
 "nbformat_minor": 1
}
